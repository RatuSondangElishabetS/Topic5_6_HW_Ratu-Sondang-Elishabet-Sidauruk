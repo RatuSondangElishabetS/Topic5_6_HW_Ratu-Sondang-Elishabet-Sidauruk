{
  "metadata": {
    "language_info": {
      "codemirror_mode": {
        "name": "python",
        "version": 3
      },
      "file_extension": ".py",
      "mimetype": "text/x-python",
      "name": "python",
      "nbconvert_exporter": "python",
      "pygments_lexer": "ipython3",
      "version": "3.8"
    },
    "kernelspec": {
      "name": "python",
      "display_name": "Python (Pyodide)",
      "language": "python"
    }
  },
  "nbformat_minor": 4,
  "nbformat": 4,
  "cells": [
    {
      "cell_type": "code",
      "source": "#Tugas poin 1 : Create the following Pandas DaataFrame",
      "metadata": {
        "trusted": true
      },
      "execution_count": null,
      "outputs": []
    },
    {
      "cell_type": "code",
      "source": "import pandas as pd\nimport numpy as np",
      "metadata": {
        "trusted": true
      },
      "execution_count": 2,
      "outputs": []
    },
    {
      "cell_type": "code",
      "source": "df = pd.DataFrame({\n    \"name\": [\"Anna\", \"Dane\", \"David\", \"kevin\", \"Joe\", \"Rose\"],\n    \"weight\": [45.2,50.5,62.1,64.0,59.0,np.nan],\n    \"height\": [155,160,162,170,167,159],\n    \"birth_year\": [2000,1997,1996,1987,1998,2003],\n    \"gender\": [\"Female\", \"Male\", \"Male\", \"Male\", \"Male\", \"Female\"],\n    \"city\": [\"New York\", \"Chicago\", \"Austin\",\"New York\", np.nan, \"New York\"]\n    })\ndf",
      "metadata": {
        "trusted": true
      },
      "execution_count": 3,
      "outputs": [
        {
          "execution_count": 3,
          "output_type": "execute_result",
          "data": {
            "text/plain": "    name  weight  height  birth_year  gender      city\n0   Anna    45.2     155        2000  Female  New York\n1   Dane    50.5     160        1997    Male   Chicago\n2  David    62.1     162        1996    Male    Austin\n3  kevin    64.0     170        1987    Male  New York\n4    Joe    59.0     167        1998    Male       NaN\n5   Rose     NaN     159        2003  Female  New York",
            "text/html": "<div>\n<style scoped>\n    .dataframe tbody tr th:only-of-type {\n        vertical-align: middle;\n    }\n\n    .dataframe tbody tr th {\n        vertical-align: top;\n    }\n\n    .dataframe thead th {\n        text-align: right;\n    }\n</style>\n<table border=\"1\" class=\"dataframe\">\n  <thead>\n    <tr style=\"text-align: right;\">\n      <th></th>\n      <th>name</th>\n      <th>weight</th>\n      <th>height</th>\n      <th>birth_year</th>\n      <th>gender</th>\n      <th>city</th>\n    </tr>\n  </thead>\n  <tbody>\n    <tr>\n      <th>0</th>\n      <td>Anna</td>\n      <td>45.2</td>\n      <td>155</td>\n      <td>2000</td>\n      <td>Female</td>\n      <td>New York</td>\n    </tr>\n    <tr>\n      <th>1</th>\n      <td>Dane</td>\n      <td>50.5</td>\n      <td>160</td>\n      <td>1997</td>\n      <td>Male</td>\n      <td>Chicago</td>\n    </tr>\n    <tr>\n      <th>2</th>\n      <td>David</td>\n      <td>62.1</td>\n      <td>162</td>\n      <td>1996</td>\n      <td>Male</td>\n      <td>Austin</td>\n    </tr>\n    <tr>\n      <th>3</th>\n      <td>kevin</td>\n      <td>64.0</td>\n      <td>170</td>\n      <td>1987</td>\n      <td>Male</td>\n      <td>New York</td>\n    </tr>\n    <tr>\n      <th>4</th>\n      <td>Joe</td>\n      <td>59.0</td>\n      <td>167</td>\n      <td>1998</td>\n      <td>Male</td>\n      <td>NaN</td>\n    </tr>\n    <tr>\n      <th>5</th>\n      <td>Rose</td>\n      <td>NaN</td>\n      <td>159</td>\n      <td>2003</td>\n      <td>Female</td>\n      <td>New York</td>\n    </tr>\n  </tbody>\n</table>\n</div>"
          },
          "metadata": {}
        }
      ]
    },
    {
      "cell_type": "code",
      "source": "df[\"name\"]",
      "metadata": {
        "trusted": true
      },
      "execution_count": 60,
      "outputs": [
        {
          "execution_count": 60,
          "output_type": "execute_result",
          "data": {
            "text/plain": "0     Anna\n1     Dane\n2    David\n3    kevin\n4      Joe\n5     Rose\nName: name, dtype: object"
          },
          "metadata": {}
        }
      ]
    },
    {
      "cell_type": "code",
      "source": "df[\"weight\"]",
      "metadata": {
        "trusted": true
      },
      "execution_count": 61,
      "outputs": [
        {
          "execution_count": 61,
          "output_type": "execute_result",
          "data": {
            "text/plain": "0    45.2\n1    50.5\n2    62.1\n3    64.0\n4    59.0\n5     NaN\nName: weight, dtype: float64"
          },
          "metadata": {}
        }
      ]
    },
    {
      "cell_type": "code",
      "source": "df[\"birth_year\"]",
      "metadata": {
        "trusted": true
      },
      "execution_count": 6,
      "outputs": [
        {
          "execution_count": 6,
          "output_type": "execute_result",
          "data": {
            "text/plain": "0    2000\n1    1997\n2    1996\n3    1987\n4    1998\n5    2003\nName: birth_year, dtype: int64"
          },
          "metadata": {}
        }
      ]
    },
    {
      "cell_type": "code",
      "source": "df[\"height\"]",
      "metadata": {
        "trusted": true
      },
      "execution_count": 7,
      "outputs": [
        {
          "execution_count": 7,
          "output_type": "execute_result",
          "data": {
            "text/plain": "0    155\n1    160\n2    162\n3    170\n4    167\n5    159\nName: height, dtype: int64"
          },
          "metadata": {}
        }
      ]
    },
    {
      "cell_type": "code",
      "source": "df[\"gender\"]",
      "metadata": {
        "trusted": true
      },
      "execution_count": 8,
      "outputs": [
        {
          "execution_count": 8,
          "output_type": "execute_result",
          "data": {
            "text/plain": "0    Female\n1      Male\n2      Male\n3      Male\n4      Male\n5    Female\nName: gender, dtype: object"
          },
          "metadata": {}
        }
      ]
    },
    {
      "cell_type": "code",
      "source": "df[\"city\"]",
      "metadata": {
        "trusted": true
      },
      "execution_count": 9,
      "outputs": [
        {
          "execution_count": 9,
          "output_type": "execute_result",
          "data": {
            "text/plain": "0    New York\n1     Chicago\n2      Austin\n3    New York\n4         NaN\n5    New York\nName: city, dtype: object"
          },
          "metadata": {}
        }
      ]
    },
    {
      "cell_type": "code",
      "source": "df = pd.DataFrame([[\"Anna\", 45.2, 155, 2000, \"Female\", \"New York\"],\n                  [\"Dane\", 50.5, 160, 1997, \"Male\", \"Chicago\"],\n                  [\"David\", 62.1, 162, 1996, \"Male\", \"Austin\"],\n                  [\"kevin\", 64.0, 170, 1987, \"Male\", \"New York\"], \n                  [\"Joe\", 59.0, 167, 1998, \"Male\", np.nan],\n                  [\"Rose\", np.nan, 159, 2003, \"Female\", \"New York\"]],\n                  columns = [\"name\", \"weight\", \"height\", \"birth_year\", \"gender\", \"city\"])\ndf",
      "metadata": {
        "trusted": true
      },
      "execution_count": 10,
      "outputs": [
        {
          "execution_count": 10,
          "output_type": "execute_result",
          "data": {
            "text/plain": "    name  weight  height  birth_year  gender      city\n0   Anna    45.2     155        2000  Female  New York\n1   Dane    50.5     160        1997    Male   Chicago\n2  David    62.1     162        1996    Male    Austin\n3  kevin    64.0     170        1987    Male  New York\n4    Joe    59.0     167        1998    Male       NaN\n5   Rose     NaN     159        2003  Female  New York",
            "text/html": "<div>\n<style scoped>\n    .dataframe tbody tr th:only-of-type {\n        vertical-align: middle;\n    }\n\n    .dataframe tbody tr th {\n        vertical-align: top;\n    }\n\n    .dataframe thead th {\n        text-align: right;\n    }\n</style>\n<table border=\"1\" class=\"dataframe\">\n  <thead>\n    <tr style=\"text-align: right;\">\n      <th></th>\n      <th>name</th>\n      <th>weight</th>\n      <th>height</th>\n      <th>birth_year</th>\n      <th>gender</th>\n      <th>city</th>\n    </tr>\n  </thead>\n  <tbody>\n    <tr>\n      <th>0</th>\n      <td>Anna</td>\n      <td>45.2</td>\n      <td>155</td>\n      <td>2000</td>\n      <td>Female</td>\n      <td>New York</td>\n    </tr>\n    <tr>\n      <th>1</th>\n      <td>Dane</td>\n      <td>50.5</td>\n      <td>160</td>\n      <td>1997</td>\n      <td>Male</td>\n      <td>Chicago</td>\n    </tr>\n    <tr>\n      <th>2</th>\n      <td>David</td>\n      <td>62.1</td>\n      <td>162</td>\n      <td>1996</td>\n      <td>Male</td>\n      <td>Austin</td>\n    </tr>\n    <tr>\n      <th>3</th>\n      <td>kevin</td>\n      <td>64.0</td>\n      <td>170</td>\n      <td>1987</td>\n      <td>Male</td>\n      <td>New York</td>\n    </tr>\n    <tr>\n      <th>4</th>\n      <td>Joe</td>\n      <td>59.0</td>\n      <td>167</td>\n      <td>1998</td>\n      <td>Male</td>\n      <td>NaN</td>\n    </tr>\n    <tr>\n      <th>5</th>\n      <td>Rose</td>\n      <td>NaN</td>\n      <td>159</td>\n      <td>2003</td>\n      <td>Female</td>\n      <td>New York</td>\n    </tr>\n  </tbody>\n</table>\n</div>"
          },
          "metadata": {}
        }
      ]
    },
    {
      "cell_type": "code",
      "source": "#Tugas 2 : create another Pandas DataFrame as the following and merge it with the previous DataFrame (key=name and nick name). \n#Make sure that no rows are missing from the original DataFrame",
      "metadata": {
        "trusted": true
      },
      "execution_count": 11,
      "outputs": []
    },
    {
      "cell_type": "code",
      "source": "df_nickname = pd.DataFrame({\n        \"nick_name\": [\"Anna\", \"Dane\", \"David\", \"Rose\"],\n        \"full_name\": [\"Anna Levis\", \"Dane John\", \"David Sebastian\", \"Rose Kimberly\"]\n    })\ndf_merged = df.merge(\n    df_nickname, how = \"outer\", left_on = \"name\", right_on = \"nick_name\")\ndf_merged",
      "metadata": {
        "trusted": true
      },
      "execution_count": 14,
      "outputs": [
        {
          "execution_count": 14,
          "output_type": "execute_result",
          "data": {
            "text/plain": "    name  weight  height  birth_year  gender      city nick_name  \\\n0   Anna    45.2     155        2000  Female  New York      Anna   \n1   Dane    50.5     160        1997    Male   Chicago      Dane   \n2  David    62.1     162        1996    Male    Austin     David   \n3  kevin    64.0     170        1987    Male  New York       NaN   \n4    Joe    59.0     167        1998    Male       NaN       NaN   \n5   Rose     NaN     159        2003  Female  New York      Rose   \n\n         full_name  \n0       Anna Levis  \n1        Dane John  \n2  David Sebastian  \n3              NaN  \n4              NaN  \n5    Rose Kimberly  ",
            "text/html": "<div>\n<style scoped>\n    .dataframe tbody tr th:only-of-type {\n        vertical-align: middle;\n    }\n\n    .dataframe tbody tr th {\n        vertical-align: top;\n    }\n\n    .dataframe thead th {\n        text-align: right;\n    }\n</style>\n<table border=\"1\" class=\"dataframe\">\n  <thead>\n    <tr style=\"text-align: right;\">\n      <th></th>\n      <th>name</th>\n      <th>weight</th>\n      <th>height</th>\n      <th>birth_year</th>\n      <th>gender</th>\n      <th>city</th>\n      <th>nick_name</th>\n      <th>full_name</th>\n    </tr>\n  </thead>\n  <tbody>\n    <tr>\n      <th>0</th>\n      <td>Anna</td>\n      <td>45.2</td>\n      <td>155</td>\n      <td>2000</td>\n      <td>Female</td>\n      <td>New York</td>\n      <td>Anna</td>\n      <td>Anna Levis</td>\n    </tr>\n    <tr>\n      <th>1</th>\n      <td>Dane</td>\n      <td>50.5</td>\n      <td>160</td>\n      <td>1997</td>\n      <td>Male</td>\n      <td>Chicago</td>\n      <td>Dane</td>\n      <td>Dane John</td>\n    </tr>\n    <tr>\n      <th>2</th>\n      <td>David</td>\n      <td>62.1</td>\n      <td>162</td>\n      <td>1996</td>\n      <td>Male</td>\n      <td>Austin</td>\n      <td>David</td>\n      <td>David Sebastian</td>\n    </tr>\n    <tr>\n      <th>3</th>\n      <td>kevin</td>\n      <td>64.0</td>\n      <td>170</td>\n      <td>1987</td>\n      <td>Male</td>\n      <td>New York</td>\n      <td>NaN</td>\n      <td>NaN</td>\n    </tr>\n    <tr>\n      <th>4</th>\n      <td>Joe</td>\n      <td>59.0</td>\n      <td>167</td>\n      <td>1998</td>\n      <td>Male</td>\n      <td>NaN</td>\n      <td>NaN</td>\n      <td>NaN</td>\n    </tr>\n    <tr>\n      <th>5</th>\n      <td>Rose</td>\n      <td>NaN</td>\n      <td>159</td>\n      <td>2003</td>\n      <td>Female</td>\n      <td>New York</td>\n      <td>Rose</td>\n      <td>Rose Kimberly</td>\n    </tr>\n  </tbody>\n</table>\n</div>"
          },
          "metadata": {}
        }
      ]
    },
    {
      "cell_type": "code",
      "source": "#Tugas 3 : Drop nick_name column and fill null values in the full_name from the merged DataFrame with their original name column.",
      "metadata": {
        "trusted": true
      },
      "execution_count": 12,
      "outputs": []
    },
    {
      "cell_type": "code",
      "source": "del df_merged[\"nick_name\"]\ndf_merged[\"full_name\"].fillna(df[\"name\"], inplace = True)\ndf_merged",
      "metadata": {
        "trusted": true
      },
      "execution_count": 15,
      "outputs": [
        {
          "execution_count": 15,
          "output_type": "execute_result",
          "data": {
            "text/plain": "    name  weight  height  birth_year  gender      city        full_name\n0   Anna    45.2     155        2000  Female  New York       Anna Levis\n1   Dane    50.5     160        1997    Male   Chicago        Dane John\n2  David    62.1     162        1996    Male    Austin  David Sebastian\n3  kevin    64.0     170        1987    Male  New York            kevin\n4    Joe    59.0     167        1998    Male       NaN              Joe\n5   Rose     NaN     159        2003  Female  New York    Rose Kimberly",
            "text/html": "<div>\n<style scoped>\n    .dataframe tbody tr th:only-of-type {\n        vertical-align: middle;\n    }\n\n    .dataframe tbody tr th {\n        vertical-align: top;\n    }\n\n    .dataframe thead th {\n        text-align: right;\n    }\n</style>\n<table border=\"1\" class=\"dataframe\">\n  <thead>\n    <tr style=\"text-align: right;\">\n      <th></th>\n      <th>name</th>\n      <th>weight</th>\n      <th>height</th>\n      <th>birth_year</th>\n      <th>gender</th>\n      <th>city</th>\n      <th>full_name</th>\n    </tr>\n  </thead>\n  <tbody>\n    <tr>\n      <th>0</th>\n      <td>Anna</td>\n      <td>45.2</td>\n      <td>155</td>\n      <td>2000</td>\n      <td>Female</td>\n      <td>New York</td>\n      <td>Anna Levis</td>\n    </tr>\n    <tr>\n      <th>1</th>\n      <td>Dane</td>\n      <td>50.5</td>\n      <td>160</td>\n      <td>1997</td>\n      <td>Male</td>\n      <td>Chicago</td>\n      <td>Dane John</td>\n    </tr>\n    <tr>\n      <th>2</th>\n      <td>David</td>\n      <td>62.1</td>\n      <td>162</td>\n      <td>1996</td>\n      <td>Male</td>\n      <td>Austin</td>\n      <td>David Sebastian</td>\n    </tr>\n    <tr>\n      <th>3</th>\n      <td>kevin</td>\n      <td>64.0</td>\n      <td>170</td>\n      <td>1987</td>\n      <td>Male</td>\n      <td>New York</td>\n      <td>kevin</td>\n    </tr>\n    <tr>\n      <th>4</th>\n      <td>Joe</td>\n      <td>59.0</td>\n      <td>167</td>\n      <td>1998</td>\n      <td>Male</td>\n      <td>NaN</td>\n      <td>Joe</td>\n    </tr>\n    <tr>\n      <th>5</th>\n      <td>Rose</td>\n      <td>NaN</td>\n      <td>159</td>\n      <td>2003</td>\n      <td>Female</td>\n      <td>New York</td>\n      <td>Rose Kimberly</td>\n    </tr>\n  </tbody>\n</table>\n</div>"
          },
          "metadata": {}
        }
      ]
    },
    {
      "cell_type": "code",
      "source": "#Tugas 4 : Create a new ‘bmi’ column calculated based on the following formula",
      "metadata": {},
      "execution_count": null,
      "outputs": []
    },
    {
      "cell_type": "code",
      "source": "a = df[\"weight\"]\nb = df[\"height\"]\nbmi = a/((b/100)**2)\ndf_bmi = pd.DataFrame({\n        \"name\": [\"Anna\", \"Dane\", \"David\", \"kevin\", \"Joe\", \"Rose\"],\n        \"BMI\": bmi\n        })\ndf_bmi",
      "metadata": {
        "trusted": true
      },
      "execution_count": 62,
      "outputs": [
        {
          "execution_count": 62,
          "output_type": "execute_result",
          "data": {
            "text/plain": "    name        BMI\n0   Anna  18.813736\n1   Dane  19.726562\n2  David  23.662551\n3  kevin  22.145329\n4    Joe  21.155294\n5   Rose        NaN",
            "text/html": "<div>\n<style scoped>\n    .dataframe tbody tr th:only-of-type {\n        vertical-align: middle;\n    }\n\n    .dataframe tbody tr th {\n        vertical-align: top;\n    }\n\n    .dataframe thead th {\n        text-align: right;\n    }\n</style>\n<table border=\"1\" class=\"dataframe\">\n  <thead>\n    <tr style=\"text-align: right;\">\n      <th></th>\n      <th>name</th>\n      <th>BMI</th>\n    </tr>\n  </thead>\n  <tbody>\n    <tr>\n      <th>0</th>\n      <td>Anna</td>\n      <td>18.813736</td>\n    </tr>\n    <tr>\n      <th>1</th>\n      <td>Dane</td>\n      <td>19.726562</td>\n    </tr>\n    <tr>\n      <th>2</th>\n      <td>David</td>\n      <td>23.662551</td>\n    </tr>\n    <tr>\n      <th>3</th>\n      <td>kevin</td>\n      <td>22.145329</td>\n    </tr>\n    <tr>\n      <th>4</th>\n      <td>Joe</td>\n      <td>21.155294</td>\n    </tr>\n    <tr>\n      <th>5</th>\n      <td>Rose</td>\n      <td>NaN</td>\n    </tr>\n  </tbody>\n</table>\n</div>"
          },
          "metadata": {}
        }
      ]
    },
    {
      "cell_type": "code",
      "source": "#Tugas 5 : Create a new bmi_class column following the definition in the table",
      "metadata": {
        "trusted": true
      },
      "execution_count": 54,
      "outputs": []
    },
    {
      "cell_type": "code",
      "source": "list_bmi = []\n\nk = 0\nx = \"\"\nfor i in range(len(df[\"weight\"])):\n    a = df._get_value(k, \"weight\")\n    b = df._get_value(k, \"height\")\n    bmi = a/((b/100)**2)\n\n    if bmi < 18.5:\n        x = \"Underweight\"\n    elif bmi < 25:\n        x = \"Normal Weight\"\n    elif bmi < 30:\n        x = \"Overweight\"\n    elif bmi < 35:\n        x = \"Obesity Class 1\"\n    elif bmi < 40:\n        x = \"Obesity Class 2\"\n    elif bmi >= 40:\n        x = \"Obesity Class 3\"\n    else:\n        x = \"Error\"\n\n    list_bmi.append(x)\n    k += 1\n\ndf_bmi = pd.DataFrame({\n        \"BMI\": list_bmi\n    })\ndf_result = pd.concat([df_merged, df_bmi], axis = 1)\nprint(result)",
      "metadata": {
        "trusted": true
      },
      "execution_count": 67,
      "outputs": [
        {
          "name": "stdout",
          "text": "    name  weight  height  birth_year  gender      city        full_name  \\\n0   Anna    45.2     155        2000  Female  New York       Anna Levis   \n1   Dane    50.5     160        1997    Male   Chicago        Dane John   \n2  David    62.1     162        1996    Male    Austin  David Sebastian   \n3  kevin    64.0     170        1987    Male  New York            kevin   \n4    Joe    59.0     167        1998    Male       NaN              Joe   \n5   Rose     NaN     159        2003  Female  New York    Rose Kimberly   \n\n             BMI  \n0  Normal Weight  \n1  Normal Weight  \n2  Normal Weight  \n3  Normal Weight  \n4  Normal Weight  \n5          Error  \n",
          "output_type": "stream"
        }
      ]
    }
  ]
}